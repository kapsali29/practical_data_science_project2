{
 "cells": [
  {
   "cell_type": "markdown",
   "metadata": {},
   "source": [
    "***Practical Data Science Assignment 2***"
   ]
  },
  {
   "cell_type": "markdown",
   "metadata": {},
   "source": [
    "PANAGIOTIS KAPSALIS DS3516005"
   ]
  },
  {
   "cell_type": "code",
   "execution_count": 1,
   "metadata": {
    "collapsed": false
   },
   "outputs": [],
   "source": [
    "import pandas as pd\n",
    "import scipy\n",
    "from yahoo_finance import Share\n",
    "from pprint import pprint\n",
    "from scipy import stats\n",
    "import numpy as np\n",
    "import scikits.bootstrap as bootstrap\n",
    "import time "
   ]
  },
  {
   "cell_type": "markdown",
   "metadata": {},
   "source": [
    "First we find the tickers for the firms that we will investigate. To calculate the returns for each firm between 21-10-2008 and 08-12-2008 we must find the open  stock value and the close stock value for each day. We will use yahoo finance to get the necessary information about the daily stock values. There is the python package yahoo-finance, which we must download and use his functions. Specifically we use the functions Share and get_historical. Share function takes as argument the ticker of each firm and the function get_historical takes as arguments the dates, and yahoo_finance wil return the requested information about the stocks of thiw firm. We compute the daily returns for each firm using the following formula\n",
    "\n",
    "\\begin{equation*}\n",
    "returns  = (Closing\\;stock\\;price - Opening\\;stock\\;price)/(Opening\\;stock\\;price)\n",
    "\\end{equation*}\n",
    "\n",
    "We must note that as Open we mean Opening stock price and as Close we mean the Closing stock price. The function get_historical returns a list of dictionaries, each dictionaty contains the necassary information about each day, which was in days between the date set that function get_historical takes them as arguments."
   ]
  },
  {
   "cell_type": "code",
   "execution_count": 2,
   "metadata": {
    "collapsed": true
   },
   "outputs": [],
   "source": [
    "firms = ['BK','BFED','BLK','CARV','C','CME','EVR','FII','FIG','GBL','LAZ','NTRS','BPOP','PFS','STT','BX','NDAQ']"
   ]
  },
  {
   "cell_type": "code",
   "execution_count": 3,
   "metadata": {
    "collapsed": false
   },
   "outputs": [
    {
     "name": "stderr",
     "output_type": "stream",
     "text": [
      "C:\\Users\\User\\Anaconda3\\lib\\site-packages\\ipykernel\\__main__.py:8: SettingWithCopyWarning: \n",
      "A value is trying to be set on a copy of a slice from a DataFrame.\n",
      "Try using .loc[row_indexer,col_indexer] = value instead\n",
      "\n",
      "See the caveats in the documentation: http://pandas.pydata.org/pandas-docs/stable/indexing.html#indexing-view-versus-copy\n",
      "C:\\Users\\User\\Anaconda3\\lib\\site-packages\\ipykernel\\__main__.py:9: SettingWithCopyWarning: \n",
      "A value is trying to be set on a copy of a slice from a DataFrame.\n",
      "Try using .loc[row_indexer,col_indexer] = value instead\n",
      "\n",
      "See the caveats in the documentation: http://pandas.pydata.org/pandas-docs/stable/indexing.html#indexing-view-versus-copy\n",
      "C:\\Users\\User\\Anaconda3\\lib\\site-packages\\ipykernel\\__main__.py:11: SettingWithCopyWarning: \n",
      "A value is trying to be set on a copy of a slice from a DataFrame.\n",
      "Try using .loc[row_indexer,col_indexer] = value instead\n",
      "\n",
      "See the caveats in the documentation: http://pandas.pydata.org/pandas-docs/stable/indexing.html#indexing-view-versus-copy\n"
     ]
    },
    {
     "name": "stdout",
     "output_type": "stream",
     "text": [
      "            returns_BK  returns_BFED  returns_BLK  returns_CARV  returns_C  \\\n",
      "2008-11-21    2.743539     -0.123762     6.879972      0.000000 -30.698529   \n",
      "2008-11-24   20.111732      0.001252     3.706013     -0.153854  -2.777778   \n",
      "2008-11-25   -8.122301      0.000000    -2.035541      2.763403  -4.851330   \n",
      "2008-11-26    3.811497     -0.121359     8.697170      1.633385  14.262561   \n",
      "2008-11-28    1.104418      5.454545     1.789473      0.000000  11.275168   \n",
      "2008-12-01  -11.533193     -0.118906   -11.227198      0.000000 -18.354430   \n",
      "2008-12-02    5.112312     -0.544054     4.431136      1.818182   4.335260   \n",
      "2008-12-03   12.338648      0.000000    11.743122     -0.178262  13.828239   \n",
      "2008-12-04   -1.211485      8.387097    -2.861942      0.000000  -2.759527   \n",
      "2008-12-05    6.393508      0.000000    12.247398      0.000000   6.344828   \n",
      "2008-12-08   -2.782166      0.000000     6.278375      6.463878   2.916160   \n",
      "Cumulative   27.966509     12.934813    39.647978     12.346732  -6.479379   \n",
      "\n",
      "            returns_CME  returns_EVR  returns_FII  returns_FIG  returns_GBL  \\\n",
      "2008-11-21     7.156790    -2.469136     0.513704    -5.069124    10.940162   \n",
      "2008-11-24    10.596200     4.059540     3.669222     9.049774     2.297147   \n",
      "2008-11-25    -2.800195     6.861499     0.935094     1.694915    -4.321429   \n",
      "2008-11-26     9.646357    25.975610     6.677890    25.311203     6.039485   \n",
      "2008-11-28     3.390242    -1.862745     3.655352    -7.294833     2.008181   \n",
      "2008-12-01   -12.369932     2.049180    -6.424434   -13.793103   -13.550341   \n",
      "2008-12-02     0.764788     8.400000     7.154645     0.000000    -0.468675   \n",
      "2008-12-03     9.813251     2.748815     9.684317   -22.083333    14.304510   \n",
      "2008-12-04    -0.033802     6.698113    -2.653971     9.248555    -1.475728   \n",
      "2008-12-05    11.815423     5.820106     9.197757   -10.659898     9.250204   \n",
      "2008-12-08     8.393204     4.453441     0.133993     2.105263     1.854553   \n",
      "Cumulative    46.372326    62.734424    32.543570   -11.490582    26.878070   \n",
      "\n",
      "            returns_LAZ  returns_NTRS  returns_BPOP  returns_PFS  returns_STT  \\\n",
      "2008-11-21     8.388630      8.276250     -4.793388    -0.447094     6.608528   \n",
      "2008-11-24    10.712766     12.078649     10.382514     6.723284     7.155582   \n",
      "2008-11-25     0.229629     -7.086964     -0.975610    -3.718200    -1.410292   \n",
      "2008-11-26    16.679631      8.317073      2.159468     4.908836    13.865549   \n",
      "2008-11-28     6.507666      3.425738      3.305785     1.283784     3.591633   \n",
      "2008-12-01   -14.602215    -10.657588    -11.404959   -12.923290   -12.258546   \n",
      "2008-12-02    -2.158004      4.179905      2.961672     7.171001     2.926419   \n",
      "2008-12-03     7.648026     10.077327      7.180385     4.325130    -0.054618   \n",
      "2008-12-04    -2.106080      2.782725     -3.135314    -3.573981     2.106706   \n",
      "2008-12-05     2.612548     11.655636      2.272727     6.906907    11.209271   \n",
      "2008-12-08    10.430839      0.227529      0.168350     0.410397     5.736314   \n",
      "Cumulative    44.343437     43.276280      8.121632    11.066774    39.476545   \n",
      "\n",
      "            returns_BX  returns_NDAQ  \n",
      "2008-11-21  -14.048059      3.630769  \n",
      "2008-11-24   31.224490     11.458955  \n",
      "2008-11-25   -1.760000      2.740462  \n",
      "2008-11-26   11.722913     14.986661  \n",
      "2008-11-28   -0.949367      0.093110  \n",
      "2008-12-01   -7.333333     -9.745564  \n",
      "2008-12-02   -4.642857     10.424717  \n",
      "2008-12-03   13.108614      5.141388  \n",
      "2008-12-04   -1.715266      8.374881  \n",
      "2008-12-05   10.387324     10.037705  \n",
      "2008-12-08    6.656347      5.247925  \n",
      "Cumulative   42.650805     62.391009  \n"
     ]
    }
   ],
   "source": [
    "info = pd.DataFrame()\n",
    "for firm in firms:\n",
    "    ff = Share(firm)\n",
    "    finance = ff.get_historical('2008-11-21','2008-12-08')\n",
    "    time.sleep(1)\n",
    "    temp = pd.DataFrame(finance)\n",
    "    firm_df = temp[['Date','Open','Close']]\n",
    "    firm_df['Open'] = pd.to_numeric(firm_df['Open'])\n",
    "    firm_df['Close'] = pd.to_numeric(firm_df['Close'])\n",
    "    string = 'returns'+'_'+firm\n",
    "    firm_df[string] = ((firm_df['Close'] - firm_df['Open'])/firm_df['Open'])*100\n",
    "    temp1 = firm_df[[string,'Date']]\n",
    "    temp1 = temp1.append({string:sum(temp1[string]), 'Date':'Cumulative'}, ignore_index=True)\n",
    "    temp1 = temp1.set_index('Date')\n",
    "    info = pd.concat([info,temp1], axis = 1,)\n",
    "info[\"returns_BFED\"]['2008-11-25']=0.0000\n",
    "info[\"returns_BFED\"]['2008-12-08']=0.0000\n",
    "pprint(info)"
   ]
  },
  {
   "cell_type": "markdown",
   "metadata": {},
   "source": [
    "We must note that the output is a dataframe which contains as columns the returns for each firm, the dataframe, also, has as indexes the days that we will investigate. Furthermore the last row contains the cumulative returns for each firm for this ten days interval "
   ]
  },
  {
   "cell_type": "code",
   "execution_count": 4,
   "metadata": {
    "collapsed": false
   },
   "outputs": [
    {
     "name": "stdout",
     "output_type": "stream",
     "text": [
      "            returns_BK  returns_BFED  returns_BLK  returns_CARV  returns_C  \\\n",
      "2008-11-21    2.743539     -0.123762     6.879972      0.000000 -30.698529   \n",
      "2008-11-24   20.111732      0.001252     3.706013     -0.153854  -2.777778   \n",
      "2008-11-25   -8.122301      0.000000    -2.035541      2.763403  -4.851330   \n",
      "2008-11-26    3.811497     -0.121359     8.697170      1.633385  14.262561   \n",
      "2008-11-28    1.104418      5.454545     1.789473      0.000000  11.275168   \n",
      "2008-12-01  -11.533193     -0.118906   -11.227198      0.000000 -18.354430   \n",
      "2008-12-02    5.112312     -0.544054     4.431136      1.818182   4.335260   \n",
      "2008-12-03   12.338648      0.000000    11.743122     -0.178262  13.828239   \n",
      "2008-12-04   -1.211485      8.387097    -2.861942      0.000000  -2.759527   \n",
      "2008-12-05    6.393508      0.000000    12.247398      0.000000   6.344828   \n",
      "2008-12-08   -2.782166      0.000000     6.278375      6.463878   2.916160   \n",
      "Cumulative   27.966509     12.934813    39.647978     12.346732  -6.479379   \n",
      "\n",
      "            returns_CME  returns_EVR  returns_FII  returns_FIG  returns_GBL  \\\n",
      "2008-11-21     7.156790    -2.469136     0.513704    -5.069124    10.940162   \n",
      "2008-11-24    10.596200     4.059540     3.669222     9.049774     2.297147   \n",
      "2008-11-25    -2.800195     6.861499     0.935094     1.694915    -4.321429   \n",
      "2008-11-26     9.646357    25.975610     6.677890    25.311203     6.039485   \n",
      "2008-11-28     3.390242    -1.862745     3.655352    -7.294833     2.008181   \n",
      "2008-12-01   -12.369932     2.049180    -6.424434   -13.793103   -13.550341   \n",
      "2008-12-02     0.764788     8.400000     7.154645     0.000000    -0.468675   \n",
      "2008-12-03     9.813251     2.748815     9.684317   -22.083333    14.304510   \n",
      "2008-12-04    -0.033802     6.698113    -2.653971     9.248555    -1.475728   \n",
      "2008-12-05    11.815423     5.820106     9.197757   -10.659898     9.250204   \n",
      "2008-12-08     8.393204     4.453441     0.133993     2.105263     1.854553   \n",
      "Cumulative    46.372326    62.734424    32.543570   -11.490582    26.878070   \n",
      "\n",
      "            returns_LAZ  returns_NTRS  returns_BPOP  returns_PFS  returns_STT  \\\n",
      "2008-11-21     8.388630      8.276250     -4.793388    -0.447094     6.608528   \n",
      "2008-11-24    10.712766     12.078649     10.382514     6.723284     7.155582   \n",
      "2008-11-25     0.229629     -7.086964     -0.975610    -3.718200    -1.410292   \n",
      "2008-11-26    16.679631      8.317073      2.159468     4.908836    13.865549   \n",
      "2008-11-28     6.507666      3.425738      3.305785     1.283784     3.591633   \n",
      "2008-12-01   -14.602215    -10.657588    -11.404959   -12.923290   -12.258546   \n",
      "2008-12-02    -2.158004      4.179905      2.961672     7.171001     2.926419   \n",
      "2008-12-03     7.648026     10.077327      7.180385     4.325130    -0.054618   \n",
      "2008-12-04    -2.106080      2.782725     -3.135314    -3.573981     2.106706   \n",
      "2008-12-05     2.612548     11.655636      2.272727     6.906907    11.209271   \n",
      "2008-12-08    10.430839      0.227529      0.168350     0.410397     5.736314   \n",
      "Cumulative    44.343437     43.276280      8.121632    11.066774    39.476545   \n",
      "\n",
      "            returns_BX  returns_NDAQ  Connected  \n",
      "2008-11-21  -14.048059      3.630769  -0.147691  \n",
      "2008-11-24   31.224490     11.458955   8.252676  \n",
      "2008-11-25   -1.760000      2.740462  -1.285698  \n",
      "2008-11-26   11.722913     14.986661  10.269055  \n",
      "2008-11-28   -0.949367      0.093110   2.163421  \n",
      "2008-12-01   -7.333333     -9.745564  -9.661638  \n",
      "2008-12-02   -4.642857     10.424717   3.050967  \n",
      "2008-12-03   13.108614      5.141388   5.860327  \n",
      "2008-12-04   -1.715266      8.374881   0.945352  \n",
      "2008-12-05   10.387324     10.037705   6.205379  \n",
      "2008-12-08    6.656347      5.247925   3.452612  \n",
      "Cumulative   42.650805     62.391009  29.104761  \n"
     ]
    }
   ],
   "source": [
    "info['Connected'] = info.mean(axis=1)\n",
    "pprint(info)"
   ]
  },
  {
   "cell_type": "markdown",
   "metadata": {},
   "source": [
    "Then we add 3 columns still on our table. The first is the column Connected, which contains for each day the mean of daily returns. Also calculated the mean for commulative values. The second column is the Non-Connected, which contains the values of S&P 500 index for this 10-day interval. The column Difference contains the difference between columns Connected and Non-Connected"
   ]
  },
  {
   "cell_type": "code",
   "execution_count": 6,
   "metadata": {
    "collapsed": false
   },
   "outputs": [
    {
     "name": "stdout",
     "output_type": "stream",
     "text": [
      "            returns_BK  returns_BFED  returns_BLK  returns_CARV  returns_C  \\\n",
      "2008-11-21    2.743539     -0.123762     6.879972      0.000000 -30.698529   \n",
      "2008-11-24   20.111732      0.001252     3.706013     -0.153854  -2.777778   \n",
      "2008-11-25   -8.122301      0.000000    -2.035541      2.763403  -4.851330   \n",
      "2008-11-26    3.811497     -0.121359     8.697170      1.633385  14.262561   \n",
      "2008-11-28    1.104418      5.454545     1.789473      0.000000  11.275168   \n",
      "2008-12-01  -11.533193     -0.118906   -11.227198      0.000000 -18.354430   \n",
      "2008-12-02    5.112312     -0.544054     4.431136      1.818182   4.335260   \n",
      "2008-12-03   12.338648      0.000000    11.743122     -0.178262  13.828239   \n",
      "2008-12-04   -1.211485      8.387097    -2.861942      0.000000  -2.759527   \n",
      "2008-12-05    6.393508      0.000000    12.247398      0.000000   6.344828   \n",
      "2008-12-08   -2.782166      0.000000     6.278375      6.463878   2.916160   \n",
      "Cumulative   27.966509     12.934813    39.647978     12.346732  -6.479379   \n",
      "\n",
      "            returns_CME  returns_EVR  returns_FII  returns_FIG  returns_GBL  \\\n",
      "2008-11-21     7.156790    -2.469136     0.513704    -5.069124    10.940162   \n",
      "2008-11-24    10.596200     4.059540     3.669222     9.049774     2.297147   \n",
      "2008-11-25    -2.800195     6.861499     0.935094     1.694915    -4.321429   \n",
      "2008-11-26     9.646357    25.975610     6.677890    25.311203     6.039485   \n",
      "2008-11-28     3.390242    -1.862745     3.655352    -7.294833     2.008181   \n",
      "2008-12-01   -12.369932     2.049180    -6.424434   -13.793103   -13.550341   \n",
      "2008-12-02     0.764788     8.400000     7.154645     0.000000    -0.468675   \n",
      "2008-12-03     9.813251     2.748815     9.684317   -22.083333    14.304510   \n",
      "2008-12-04    -0.033802     6.698113    -2.653971     9.248555    -1.475728   \n",
      "2008-12-05    11.815423     5.820106     9.197757   -10.659898     9.250204   \n",
      "2008-12-08     8.393204     4.453441     0.133993     2.105263     1.854553   \n",
      "Cumulative    46.372326    62.734424    32.543570   -11.490582    26.878070   \n",
      "\n",
      "            returns_LAZ  returns_NTRS  returns_BPOP  returns_PFS  returns_STT  \\\n",
      "2008-11-21     8.388630      8.276250     -4.793388    -0.447094     6.608528   \n",
      "2008-11-24    10.712766     12.078649     10.382514     6.723284     7.155582   \n",
      "2008-11-25     0.229629     -7.086964     -0.975610    -3.718200    -1.410292   \n",
      "2008-11-26    16.679631      8.317073      2.159468     4.908836    13.865549   \n",
      "2008-11-28     6.507666      3.425738      3.305785     1.283784     3.591633   \n",
      "2008-12-01   -14.602215    -10.657588    -11.404959   -12.923290   -12.258546   \n",
      "2008-12-02    -2.158004      4.179905      2.961672     7.171001     2.926419   \n",
      "2008-12-03     7.648026     10.077327      7.180385     4.325130    -0.054618   \n",
      "2008-12-04    -2.106080      2.782725     -3.135314    -3.573981     2.106706   \n",
      "2008-12-05     2.612548     11.655636      2.272727     6.906907    11.209271   \n",
      "2008-12-08    10.430839      0.227529      0.168350     0.410397     5.736314   \n",
      "Cumulative    44.343437     43.276280      8.121632    11.066774    39.476545   \n",
      "\n",
      "            returns_BX  returns_NDAQ  Connected  Non-Connected  Difference  \n",
      "2008-11-21  -14.048059      3.630769  -0.147691       5.846476   -5.994167  \n",
      "2008-11-24   31.224490     11.458955   8.252676       6.316773    1.935903  \n",
      "2008-11-25   -1.760000      2.740462  -1.285698       0.467541   -1.753238  \n",
      "2008-11-26   11.722913     14.986661  10.269055       4.077848    6.191206  \n",
      "2008-11-28   -0.949367      0.093110   2.163421       1.054243    1.109178  \n",
      "2008-12-01   -7.333333     -9.745564  -9.661638      -8.147552   -1.514086  \n",
      "2008-12-02   -4.642857     10.424717   3.050967       3.774115   -0.723148  \n",
      "2008-12-03   13.108614      5.141388   5.860327       3.217166    2.643161  \n",
      "2008-12-04   -1.715266      8.374881   0.945352      -2.820354    3.765706  \n",
      "2008-12-05   10.387324     10.037705   6.205379       3.746908    2.458471  \n",
      "2008-12-08    6.656347      5.247925   3.452612       3.057628    0.394984  \n",
      "Cumulative   42.650805     62.391009  29.104761      20.590791    8.513970  \n"
     ]
    }
   ],
   "source": [
    "sp500 = Share('^GSPC')\n",
    "hist_data = sp500.get_historical('2008-11-21','2008-12-08')\n",
    "sp500_df = pd.DataFrame(hist_data)\n",
    "sp500_df = sp500_df[['Open','Close','Date']]\n",
    "sp500_df['Open'] = pd.to_numeric(sp500_df['Open'])\n",
    "sp500_df['Close'] = pd.to_numeric(sp500_df['Close'])\n",
    "sp500_df['returns'] = ((sp500_df['Close'] - sp500_df['Open'])/sp500_df['Open'])*100\n",
    "sp500_df = sp500_df[['Date','returns']]\n",
    "sp500_df = sp500_df.append({'returns':sum(sp500_df['returns']), 'Date':'Cumulative'}, ignore_index=True).set_index('Date')\n",
    "info['Non-Connected'] = sp500_df['returns']\n",
    "info['Difference'] = info['Connected'] - info['Non-Connected']\n",
    "pprint(info)"
   ]
  },
  {
   "cell_type": "code",
   "execution_count": 7,
   "metadata": {
    "collapsed": false
   },
   "outputs": [],
   "source": [
    "event_days = ['2008-11-21','2008-11-24','2008-11-25','2008-11-26','2008-11-28','2008-12-01','2008-12-02','2008-12-03','2008-12-04','2008-12-05','2008-12-08','Cumulative']"
   ]
  },
  {
   "cell_type": "markdown",
   "metadata": {
    "collapsed": false
   },
   "source": [
    "Now we want to examine the daily returns of firms substracted from daily S&P 500 index, more specifically we want to check if these daily samples have mean (expected value), equal to zero. Before we use the t-test, we must check the normality of our data. In the code above, we implement the Kolmogorov-Smirnov test for our standardized sample, because t-test is used only for samples that follow the Normal Distribution. In our case we can see that some daily samples follow Normal and some others don't follow normal distribution. So in this case we will use a non-parametric test. We choose to use Bootstrap test.  "
   ]
  },
  {
   "cell_type": "code",
   "execution_count": 9,
   "metadata": {
    "collapsed": false
   },
   "outputs": [
    {
     "name": "stdout",
     "output_type": "stream",
     "text": [
      "'2008-11-21'\n",
      "NormaltestResult(statistic=16.899414929129016, pvalue=0.00021396299797219129)\n",
      "Null Hypothesis is rejected, p-value: 0.000213962997972 <0.05\n",
      "'2008-11-24'\n",
      "NormaltestResult(statistic=10.3763887638556, pvalue=0.0055820768196788283)\n",
      "Null Hypothesis is rejected, p-value: 0.00558207681968 <0.05\n",
      "'2008-11-25'\n",
      "NormaltestResult(statistic=0.27141347101924018, pvalue=0.87309864377619306)\n",
      "Null Hypothesis is not rejected, p-value: 0.873098643776 >0.05\n",
      "'2008-11-26'\n",
      "NormaltestResult(statistic=2.2950934393757985, pvalue=0.3174145217636839)\n",
      "Null Hypothesis is not rejected, p-value: 0.317414521764 >0.05\n",
      "'2008-11-28'\n",
      "NormaltestResult(statistic=3.3296354694042409, pvalue=0.18922514401632329)\n",
      "Null Hypothesis is not rejected, p-value: 0.189225144016 >0.05\n",
      "'2008-12-01'\n",
      "NormaltestResult(statistic=3.3761748749432496, pvalue=0.18487276681214448)\n",
      "Null Hypothesis is not rejected, p-value: 0.184872766812 >0.05\n",
      "'2008-12-02'\n",
      "NormaltestResult(statistic=0.038776895508061515, pvalue=0.98079829933954754)\n",
      "Null Hypothesis is not rejected, p-value: 0.98079829934 >0.05\n",
      "'2008-12-03'\n",
      "NormaltestResult(statistic=20.805958691343022, pvalue=3.0341949054819277e-05)\n",
      "Null Hypothesis is rejected, p-value: 3.03419490548e-05 <0.05\n",
      "'2008-12-04'\n",
      "NormaltestResult(statistic=3.2798576572995257, pvalue=0.19399384860372199)\n",
      "Null Hypothesis is not rejected, p-value: 0.193993848604 >0.05\n",
      "'2008-12-05'\n",
      "NormaltestResult(statistic=10.92707678908182, pvalue=0.0042385315827702013)\n",
      "Null Hypothesis is rejected, p-value: 0.00423853158277 <0.05\n",
      "'2008-12-08'\n",
      "NormaltestResult(statistic=0.63408351512294991, pvalue=0.72830034244440445)\n",
      "Null Hypothesis is not rejected, p-value: 0.728300342444 >0.05\n",
      "'Cumulative'\n",
      "NormaltestResult(statistic=0.62644669321594493, pvalue=0.73108660861870001)\n",
      "Null Hypothesis is not rejected, p-value: 0.731086608619 >0.05\n"
     ]
    },
    {
     "name": "stderr",
     "output_type": "stream",
     "text": [
      "C:\\Users\\User\\Anaconda3\\lib\\site-packages\\scipy\\stats\\mstats_basic.py:2231: UserWarning: kurtosistest only valid for n>=20 ... continuing anyway, n=17\n",
      "  np.min(n))\n"
     ]
    }
   ],
   "source": [
    "for day in event_days:\n",
    "    stocks = info.loc[day,'returns_BK':'returns_NDAQ']\n",
    "    day_sp500 = info.loc[day,'Non-Connected']\n",
    "    sample = stocks - day_sp500\n",
    "    standrdized = (sample - np.mean(sample))/np.std(sample)\n",
    "    pprint(day)\n",
    "    test = stats.mstats.normaltest(standrdized.astype(np.float64))\n",
    "    pprint(test)\n",
    "    if test[1]>0.05:\n",
    "        print(\"Null Hypothesis is not rejected, p-value:\",test[1],\">0.05\")\n",
    "    else:\n",
    "        print(\"Null Hypothesis is rejected, p-value:\",test[1],\"<0.05\")\n",
    "    \n",
    "    "
   ]
  },
  {
   "cell_type": "markdown",
   "metadata": {},
   "source": [
    "Bootstrap test is a non-centralized test, takes as argument the daily returns of the firms substracted by the daily S&P 500 index. Bootstrap test takes our sample and find the mean of this sample, and has as output an interval which says that the population mean must be in this interval. This interval is the margin of error from what the mean of our sample is. In the code bellow we check if the daily difference, is in this interval"
   ]
  },
  {
   "cell_type": "code",
   "execution_count": 17,
   "metadata": {
    "collapsed": false
   },
   "outputs": [
    {
     "name": "stdout",
     "output_type": "stream",
     "text": [
      "'2008-11-21'\n",
      "Low: -12.6321315523  High: -2.52269777159  mean difference is between CIs: True\n",
      "'2008-11-24'\n",
      "Low: -1.12582856467  High: 6.77710610635  mean difference is between CIs: True\n",
      "'2008-11-25'\n",
      "Low: -3.48155437534  High: -0.0306249816983  mean difference is between CIs: True\n",
      "'2008-11-26'\n",
      "Low: 3.07876927  High: 10.1933488011  mean difference is between CIs: True\n",
      "'2008-11-28'\n",
      "Low: -0.73040374923  High: 2.93954475268  mean difference is between CIs: True\n",
      "'2008-12-01'\n",
      "Low: -3.78881353277  High: 1.54824305067  mean difference is between CIs: True\n",
      "'2008-12-02'\n",
      "Low: -2.54365599488  High: 1.10253717279  mean difference is between CIs: True\n",
      "'2008-12-03'\n",
      "Low: -3.48728925182  High: 5.54232947266  mean difference is between CIs: True\n",
      "'2008-12-04'\n",
      "Low: 2.00080477675  High: 6.23126803997  mean difference is between CIs: True\n",
      "'2008-12-05'\n",
      "Low: -1.10498014552  High: 4.63653330785  mean difference is between CIs: True\n",
      "'2008-12-08'\n",
      "Low: -1.21862878705  High: 2.11125476635  mean difference is between CIs: True\n",
      "'Cumulative'\n",
      "Low: -2.07406425734  High: 18.1597225896  mean difference is between CIs: True\n"
     ]
    }
   ],
   "source": [
    "for day in event_days:\n",
    "    stocks = info.loc[day,'returns_BK':'returns_NDAQ']\n",
    "    diff = info.loc[day,'Difference']\n",
    "    day_sp500 = info.loc[day,'Non-Connected']\n",
    "    sample = stocks - day_sp500\n",
    "    pprint(day)\n",
    "    CIs = bootstrap.ci(data=sample.astype(np.float64), statfunction=scipy.mean)\n",
    "    print(\"Low:\",CIs[0],\" High:\",CIs[1],\" mean difference is between CIs:\",(CIs[0]<diff) & (diff<CIs[1]))\n",
    "    "
   ]
  },
  {
   "cell_type": "markdown",
   "metadata": {},
   "source": [
    "As we can see from above we can not reject the Null Hypothesis because for each day, the daily Difference is in the Confidence Interval. \n",
    "Furthermore we must note that to use Bootstrap test in python we installed **scikits.bootstrap** package"
   ]
  }
 ],
 "metadata": {
  "anaconda-cloud": {},
  "kernelspec": {
   "display_name": "Python [default]",
   "language": "python",
   "name": "python3"
  },
  "language_info": {
   "codemirror_mode": {
    "name": "ipython",
    "version": 3
   },
   "file_extension": ".py",
   "mimetype": "text/x-python",
   "name": "python",
   "nbconvert_exporter": "python",
   "pygments_lexer": "ipython3",
   "version": "3.5.2"
  }
 },
 "nbformat": 4,
 "nbformat_minor": 1
}
